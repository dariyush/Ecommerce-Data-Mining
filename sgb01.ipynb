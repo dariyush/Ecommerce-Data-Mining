{
 "cells": [
  {
   "cell_type": "code",
   "execution_count": 1,
   "metadata": {
    "collapsed": true
   },
   "outputs": [],
   "source": [
    "import pymysql\n",
    "import pandas as pd\n",
    "import numpy as np\n",
    "import matplotlib.pyplot as plt\n",
    "%matplotlib inline  "
   ]
  },
  {
   "cell_type": "code",
   "execution_count": 2,
   "metadata": {
    "collapsed": false,
    "scrolled": true
   },
   "outputs": [],
   "source": [
    "db = pymysql.connect(host='127.0.0.1', user='root', passwd=None, db='sgb')\n",
    "#cur = db.cursor()\n",
    "#cur.execute('SELECT * FROM aw_arep_aggregated_23897220029455b3f2a92e728f1fbbb5')\n"
   ]
  },
  {
   "cell_type": "code",
   "execution_count": 4,
   "metadata": {
    "collapsed": false
   },
   "outputs": [
    {
     "data": {
      "text/html": [
       "<div>\n",
       "<table border=\"1\" class=\"dataframe\">\n",
       "  <thead>\n",
       "    <tr style=\"text-align: right;\">\n",
       "      <th></th>\n",
       "      <th>entity_id</th>\n",
       "      <th>period_key</th>\n",
       "      <th>order_increment_id</th>\n",
       "      <th>order_created_at</th>\n",
       "      <th>xsku</th>\n",
       "      <th>customer_email</th>\n",
       "      <th>customer_group</th>\n",
       "      <th>order_ship_country</th>\n",
       "      <th>order_ship_region</th>\n",
       "      <th>order_ship_city</th>\n",
       "      <th>...</th>\n",
       "      <th>base_row_xtotal</th>\n",
       "      <th>base_row_xtotal_incl_tax</th>\n",
       "      <th>base_row_xinvoiced</th>\n",
       "      <th>base_tax_invoiced</th>\n",
       "      <th>base_row_xinvoiced_incl_tax</th>\n",
       "      <th>base_row_xrefunded</th>\n",
       "      <th>base_tax_xrefunded</th>\n",
       "      <th>base_row_xrefunded_incl_tax</th>\n",
       "      <th>order_id</th>\n",
       "      <th>product_id</th>\n",
       "    </tr>\n",
       "  </thead>\n",
       "  <tbody>\n",
       "    <tr>\n",
       "      <th>0</th>\n",
       "      <td>1</td>\n",
       "      <td>2013-12-05 23:07:03</td>\n",
       "      <td>1396932019</td>\n",
       "      <td>2013-12-05 23:07:03</td>\n",
       "      <td>2905</td>\n",
       "      <td>flamand_joshua@hotmail.com</td>\n",
       "      <td>General</td>\n",
       "      <td>CA</td>\n",
       "      <td>Ontario</td>\n",
       "      <td>Barrie</td>\n",
       "      <td>...</td>\n",
       "      <td>358.20</td>\n",
       "      <td>358.20</td>\n",
       "      <td>358.20</td>\n",
       "      <td>0.0</td>\n",
       "      <td>358.20</td>\n",
       "      <td>0.0</td>\n",
       "      <td>0.0</td>\n",
       "      <td>0.0</td>\n",
       "      <td>80284</td>\n",
       "      <td>518</td>\n",
       "    </tr>\n",
       "    <tr>\n",
       "      <th>1</th>\n",
       "      <td>2</td>\n",
       "      <td>2013-12-05 22:54:13</td>\n",
       "      <td>1396932015</td>\n",
       "      <td>2013-12-05 22:54:13</td>\n",
       "      <td>2884</td>\n",
       "      <td>kelehers_big5@yahoo.com</td>\n",
       "      <td>General</td>\n",
       "      <td>CA</td>\n",
       "      <td>Quebec</td>\n",
       "      <td>Montreal</td>\n",
       "      <td>...</td>\n",
       "      <td>24.80</td>\n",
       "      <td>24.80</td>\n",
       "      <td>24.80</td>\n",
       "      <td>0.0</td>\n",
       "      <td>24.80</td>\n",
       "      <td>0.0</td>\n",
       "      <td>0.0</td>\n",
       "      <td>0.0</td>\n",
       "      <td>80282</td>\n",
       "      <td>479</td>\n",
       "    </tr>\n",
       "    <tr>\n",
       "      <th>2</th>\n",
       "      <td>3</td>\n",
       "      <td>2013-12-05 22:54:13</td>\n",
       "      <td>1396932015</td>\n",
       "      <td>2013-12-05 22:54:13</td>\n",
       "      <td>2880</td>\n",
       "      <td>kelehers_big5@yahoo.com</td>\n",
       "      <td>General</td>\n",
       "      <td>CA</td>\n",
       "      <td>Quebec</td>\n",
       "      <td>Montreal</td>\n",
       "      <td>...</td>\n",
       "      <td>24.80</td>\n",
       "      <td>24.80</td>\n",
       "      <td>24.80</td>\n",
       "      <td>0.0</td>\n",
       "      <td>24.80</td>\n",
       "      <td>0.0</td>\n",
       "      <td>0.0</td>\n",
       "      <td>0.0</td>\n",
       "      <td>80282</td>\n",
       "      <td>464</td>\n",
       "    </tr>\n",
       "    <tr>\n",
       "      <th>3</th>\n",
       "      <td>4</td>\n",
       "      <td>2013-12-05 22:54:13</td>\n",
       "      <td>1396932015</td>\n",
       "      <td>2013-12-05 22:54:13</td>\n",
       "      <td>2543</td>\n",
       "      <td>kelehers_big5@yahoo.com</td>\n",
       "      <td>General</td>\n",
       "      <td>CA</td>\n",
       "      <td>Quebec</td>\n",
       "      <td>Montreal</td>\n",
       "      <td>...</td>\n",
       "      <td>191.68</td>\n",
       "      <td>191.68</td>\n",
       "      <td>191.68</td>\n",
       "      <td>0.0</td>\n",
       "      <td>191.68</td>\n",
       "      <td>0.0</td>\n",
       "      <td>0.0</td>\n",
       "      <td>0.0</td>\n",
       "      <td>80282</td>\n",
       "      <td>98</td>\n",
       "    </tr>\n",
       "    <tr>\n",
       "      <th>4</th>\n",
       "      <td>5</td>\n",
       "      <td>2013-12-05 22:17:19</td>\n",
       "      <td>1396932008</td>\n",
       "      <td>2013-12-05 22:17:19</td>\n",
       "      <td>2645</td>\n",
       "      <td>almth120@yahoo.ca</td>\n",
       "      <td>General</td>\n",
       "      <td>CA</td>\n",
       "      <td>Ontario</td>\n",
       "      <td>Thunder Bay</td>\n",
       "      <td>...</td>\n",
       "      <td>131.50</td>\n",
       "      <td>131.50</td>\n",
       "      <td>131.50</td>\n",
       "      <td>0.0</td>\n",
       "      <td>131.50</td>\n",
       "      <td>0.0</td>\n",
       "      <td>0.0</td>\n",
       "      <td>0.0</td>\n",
       "      <td>80274</td>\n",
       "      <td>91</td>\n",
       "    </tr>\n",
       "  </tbody>\n",
       "</table>\n",
       "<p>5 rows × 31 columns</p>\n",
       "</div>"
      ],
      "text/plain": [
       "   entity_id          period_key order_increment_id    order_created_at  xsku  \\\n",
       "0          1 2013-12-05 23:07:03         1396932019 2013-12-05 23:07:03  2905   \n",
       "1          2 2013-12-05 22:54:13         1396932015 2013-12-05 22:54:13  2884   \n",
       "2          3 2013-12-05 22:54:13         1396932015 2013-12-05 22:54:13  2880   \n",
       "3          4 2013-12-05 22:54:13         1396932015 2013-12-05 22:54:13  2543   \n",
       "4          5 2013-12-05 22:17:19         1396932008 2013-12-05 22:17:19  2645   \n",
       "\n",
       "               customer_email customer_group order_ship_country  \\\n",
       "0  flamand_joshua@hotmail.com        General                 CA   \n",
       "1     kelehers_big5@yahoo.com        General                 CA   \n",
       "2     kelehers_big5@yahoo.com        General                 CA   \n",
       "3     kelehers_big5@yahoo.com        General                 CA   \n",
       "4           almth120@yahoo.ca        General                 CA   \n",
       "\n",
       "  order_ship_region order_ship_city     ...     base_row_xtotal  \\\n",
       "0           Ontario          Barrie     ...              358.20   \n",
       "1            Quebec        Montreal     ...               24.80   \n",
       "2            Quebec        Montreal     ...               24.80   \n",
       "3            Quebec        Montreal     ...              191.68   \n",
       "4           Ontario     Thunder Bay     ...              131.50   \n",
       "\n",
       "  base_row_xtotal_incl_tax base_row_xinvoiced  base_tax_invoiced  \\\n",
       "0                   358.20             358.20                0.0   \n",
       "1                    24.80              24.80                0.0   \n",
       "2                    24.80              24.80                0.0   \n",
       "3                   191.68             191.68                0.0   \n",
       "4                   131.50             131.50                0.0   \n",
       "\n",
       "   base_row_xinvoiced_incl_tax  base_row_xrefunded  base_tax_xrefunded  \\\n",
       "0                       358.20                 0.0                 0.0   \n",
       "1                        24.80                 0.0                 0.0   \n",
       "2                        24.80                 0.0                 0.0   \n",
       "3                       191.68                 0.0                 0.0   \n",
       "4                       131.50                 0.0                 0.0   \n",
       "\n",
       "   base_row_xrefunded_incl_tax  order_id  product_id  \n",
       "0                          0.0     80284         518  \n",
       "1                          0.0     80282         479  \n",
       "2                          0.0     80282         464  \n",
       "3                          0.0     80282          98  \n",
       "4                          0.0     80274          91  \n",
       "\n",
       "[5 rows x 31 columns]"
      ]
     },
     "execution_count": 4,
     "metadata": {},
     "output_type": "execute_result"
    }
   ],
   "source": [
    "sql = 'SELECT * FROM aw_arep_aggregated_23897220029455b3f2a92e728f1fbbb5;'\n",
    "orders01 = pd.read_sql(sql, con=db)\n",
    "\n",
    "sql = 'SELECT * FROM aw_arep_aggregated_61c4a96a933e3b23629389d2de646adb;'\n",
    "orders02 = pd.read_sql(sql, con=db)\n",
    "db.close()\n",
    "\n",
    "orders = orders01.append(orders02,  ignore_index=True)\n",
    "orders.head()"
   ]
  },
  {
   "cell_type": "code",
   "execution_count": 5,
   "metadata": {
    "collapsed": false
   },
   "outputs": [
    {
     "data": {
      "text/plain": [
       "Index(['entity_id', 'period_key', 'order_increment_id', 'order_created_at',\n",
       "       'xsku', 'customer_email', 'customer_group', 'order_ship_country',\n",
       "       'order_ship_region', 'order_ship_city', 'order_ship_postcode', 'name',\n",
       "       'product_manufacturer', 'xqty_ordered', 'xqty_invoiced', 'xqty_shipped',\n",
       "       'xqty_refunded', 'base_xprice', 'base_row_subtotal', 'base_tax_amount',\n",
       "       'base_discount_amount', 'base_row_xtotal', 'base_row_xtotal_incl_tax',\n",
       "       'base_row_xinvoiced', 'base_tax_invoiced',\n",
       "       'base_row_xinvoiced_incl_tax', 'base_row_xrefunded',\n",
       "       'base_tax_xrefunded', 'base_row_xrefunded_incl_tax', 'order_id',\n",
       "       'product_id'],\n",
       "      dtype='object')"
      ]
     },
     "execution_count": 5,
     "metadata": {},
     "output_type": "execute_result"
    }
   ],
   "source": [
    "orders.columns"
   ]
  },
  {
   "cell_type": "code",
   "execution_count": 6,
   "metadata": {
    "collapsed": false
   },
   "outputs": [
    {
     "data": {
      "text/html": [
       "<div>\n",
       "<table border=\"1\" class=\"dataframe\">\n",
       "  <thead>\n",
       "    <tr style=\"text-align: right;\">\n",
       "      <th></th>\n",
       "      <th>order_id</th>\n",
       "      <th>product_id</th>\n",
       "    </tr>\n",
       "  </thead>\n",
       "  <tbody>\n",
       "    <tr>\n",
       "      <th>0</th>\n",
       "      <td>80284</td>\n",
       "      <td>518</td>\n",
       "    </tr>\n",
       "    <tr>\n",
       "      <th>1</th>\n",
       "      <td>80282</td>\n",
       "      <td>479</td>\n",
       "    </tr>\n",
       "    <tr>\n",
       "      <th>2</th>\n",
       "      <td>80282</td>\n",
       "      <td>464</td>\n",
       "    </tr>\n",
       "    <tr>\n",
       "      <th>3</th>\n",
       "      <td>80282</td>\n",
       "      <td>98</td>\n",
       "    </tr>\n",
       "    <tr>\n",
       "      <th>4</th>\n",
       "      <td>80274</td>\n",
       "      <td>91</td>\n",
       "    </tr>\n",
       "  </tbody>\n",
       "</table>\n",
       "</div>"
      ],
      "text/plain": [
       "   order_id  product_id\n",
       "0     80284         518\n",
       "1     80282         479\n",
       "2     80282         464\n",
       "3     80282          98\n",
       "4     80274          91"
      ]
     },
     "execution_count": 6,
     "metadata": {},
     "output_type": "execute_result"
    }
   ],
   "source": [
    "selection = orders[['order_id','product_id']]\n",
    "selection.head()"
   ]
  },
  {
   "cell_type": "code",
   "execution_count": 7,
   "metadata": {
    "collapsed": false
   },
   "outputs": [
    {
     "data": {
      "text/html": [
       "<div>\n",
       "<table border=\"1\" class=\"dataframe\">\n",
       "  <thead>\n",
       "    <tr style=\"text-align: right;\">\n",
       "      <th></th>\n",
       "      <th>Order ID</th>\n",
       "      <th>No. of Products</th>\n",
       "    </tr>\n",
       "  </thead>\n",
       "  <tbody>\n",
       "    <tr>\n",
       "      <th>0</th>\n",
       "      <td>79517</td>\n",
       "      <td>4</td>\n",
       "    </tr>\n",
       "    <tr>\n",
       "      <th>1</th>\n",
       "      <td>79519</td>\n",
       "      <td>1</td>\n",
       "    </tr>\n",
       "    <tr>\n",
       "      <th>2</th>\n",
       "      <td>79520</td>\n",
       "      <td>4</td>\n",
       "    </tr>\n",
       "    <tr>\n",
       "      <th>3</th>\n",
       "      <td>79521</td>\n",
       "      <td>1</td>\n",
       "    </tr>\n",
       "    <tr>\n",
       "      <th>4</th>\n",
       "      <td>79523</td>\n",
       "      <td>3</td>\n",
       "    </tr>\n",
       "  </tbody>\n",
       "</table>\n",
       "</div>"
      ],
      "text/plain": [
       "   Order ID  No. of Products\n",
       "0     79517                4\n",
       "1     79519                1\n",
       "2     79520                4\n",
       "3     79521                1\n",
       "4     79523                3"
      ]
     },
     "execution_count": 7,
     "metadata": {},
     "output_type": "execute_result"
    }
   ],
   "source": [
    "products_per_order = selection.groupby('order_id', as_index=False).count()\n",
    "#products_per_order.to_csv('products_per_order.csv')\n",
    "products_per_order.columns = ['Order ID', 'No. of Products']\n",
    "products_per_order.to_csv('products_per_order.csv')\n",
    "products_per_order.head()"
   ]
  },
  {
   "cell_type": "code",
   "execution_count": 22,
   "metadata": {
    "collapsed": false
   },
   "outputs": [
    {
     "data": {
      "text/plain": [
       "<Container object of 19779 artists>"
      ]
     },
     "execution_count": 22,
     "metadata": {},
     "output_type": "execute_result"
    },
    {
     "data": {
      "image/png": "[encoded data removed]",
      "text/plain": [
       "<matplotlib.figure.Figure at 0x2c7a7c1e198>"
      ]
     },
     "metadata": {},
     "output_type": "display_data"
    }
   ],
   "source": [
    "plt.figure(figsize=(15, 4))\n",
    "x = products_per_order['Order ID']\n",
    "y = products_per_order['No. of Products']\n",
    "plt.bar(range(len(y)),y)"
   ]
  },
  {
   "cell_type": "code",
   "execution_count": null,
   "metadata": {
    "collapsed": true
   },
   "outputs": [],
   "source": []
  }
 ],
 "metadata": {
  "kernelspec": {
   "display_name": "Python 3",
   "language": "python",
   "name": "python3"
  },
  "language_info": {
   "codemirror_mode": {
    "name": "ipython",
    "version": 3
   },
   "file_extension": ".py",
   "mimetype": "text/x-python",
   "name": "python",
   "nbconvert_exporter": "python",
   "pygments_lexer": "ipython3",
   "version": "3.5.1"
  }
 },
 "nbformat": 4,
 "nbformat_minor": 0
}
